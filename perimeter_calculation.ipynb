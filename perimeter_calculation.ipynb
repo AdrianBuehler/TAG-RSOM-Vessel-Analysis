{
 "cells": [
  {
   "cell_type": "markdown",
   "id": "19d863c4",
   "metadata": {},
   "source": [
    "# Label-Free in vivo Quantification of the Vascular Network in Murine Colitis using Transrectal Absorber Guide Raster-Scanning Optoacoustic Mesoscopy (TAG-RSOM)"
   ]
  },
  {
   "cell_type": "markdown",
   "id": "b63d85f0",
   "metadata": {},
   "source": [
    "The following code provides a pipeline to pick up results generaded by the Fiji-pipeline, calculate the parameters and to build the tabels to be analysed in Prism (statistic software)"
   ]
  },
  {
   "cell_type": "code",
   "execution_count": 12,
   "id": "e345a83c",
   "metadata": {},
   "outputs": [],
   "source": [
    "import os\n",
    "import pandas as pd\n",
    "import numpy as np"
   ]
  },
  {
   "cell_type": "markdown",
   "id": "0aaaa441",
   "metadata": {},
   "source": [
    "# Choose Working Directory"
   ]
  },
  {
   "cell_type": "code",
   "execution_count": 27,
   "id": "88e6baa2",
   "metadata": {},
   "outputs": [],
   "source": [
    "ANALYSIS_DIR = r\"C:\\Path\\to\\Analysis\"\n",
    "RESULTS = r\"C:\\Path\\to\\Results\""
   ]
  },
  {
   "cell_type": "markdown",
   "id": "84be5404",
   "metadata": {},
   "source": [
    "# Normalized Number of Branches\n",
    "The number of branches (vessels) in a skeleton is calculated by Fiji's analyse skeleton function, called in the macro \"skeletonize_analyse_and_save_Results.ijm\" and saved as file ending with \"_BranchInfo.csv\".\n",
    "\n",
    "To normalize the NB it is devided by the area of the used colon 2D image in cm². The colon area is saved as number of pixels in a file ending with \"\\_vesselArea.csv\" when calling any segmentation macro.\n",
    "\n",
    "(AREA_COLON_pixel * 20µm * 20µm) / 100000000 = AREA_COLON_cm²\n",
    "\n",
    "    Normalized Number of Branches (NNB) has the unit (cm^-2)"
   ]
  },
  {
   "cell_type": "code",
   "execution_count": 29,
   "id": "ba29b73b",
   "metadata": {},
   "outputs": [],
   "source": [
    "df_NNB =  pd.DataFrame(columns=['Name', 'Value'])\n",
    "\n",
    "for skeleton_name in sorted([file for file in os.listdir(ANALYSIS_DIR) if file.endswith(\"_Skeleton.csv\")]): # Iterate throu individuals\n",
    "    df_area = pd.read_csv(os.path.join(ANALYSIS_DIR, skeleton_name.replace(\"_Skeleton.csv\", \"_SegmentedArea.csv\")))\n",
    "    AREA_COLON_pixel = df_area.iloc[0][\"Area\"]\n",
    "    AREA_COLON_CM2 = AREA_COLON_pixel * 0.000004\n",
    "    df_branches = pd.read_csv(os.path.join(ANALYSIS_DIR, skeleton_name.replace(\"_Skeleton.csv\", \"_BranchInfo.csv\")))\n",
    "    \n",
    "    df_NNB.loc[len(df_NNB)] = [skeleton_name.replace(\"_Skeleton.csv\", \"\"), df_branches.shape[0] / AREA_COLON_CM2]\n",
    "    \n",
    "df_NNB.to_csv(os.path.join(RESULTS, \"Normalized Number of Branches.csv\"), header=False, index=False)"
   ]
  },
  {
   "cell_type": "markdown",
   "id": "cc8b9096",
   "metadata": {},
   "source": [
    "# Length of Largest Component\n",
    "The largest component is calculated as the number of pixels representing junction-, end-, or slab-pixels. This information is calculated by Fiji's analyse skeleton function, called in the macro \"skeletonize_analyse_and_save_Results.ijm\" and saved as file ending with \"_results.csv\".\n",
    "\n",
    "    Largest Component (CC) is a length and has the unit (mm)\n",
    "    \n",
    "Calculated by number of pixels in LC * 20 µm / 1000"
   ]
  },
  {
   "cell_type": "code",
   "execution_count": 33,
   "id": "ee96d82b",
   "metadata": {},
   "outputs": [],
   "source": [
    "df_LC_L =  pd.DataFrame(columns=['Name', 'Value'])\n",
    "\n",
    "for skeleton_name in sorted([file for file in os.listdir(ANALYSIS_DIR) if file.endswith(\"_Skeleton.csv\")]): # Iterate throu individuals\n",
    "    df_skeleton = pd.read_csv(os.path.join(ANALYSIS_DIR, skeleton_name))\n",
    "    \n",
    "    tmp_LC = 0\n",
    "    for index, row in df_skeleton.iterrows():\n",
    "        if(row['# End-point voxels'] + row['# Junction voxels'] + row['# Slab voxels'] > tmp_LC):\n",
    "            tmp_LC = row['# End-point voxels'] + row['# Junction voxels'] + row['# Slab voxels']\n",
    "            \n",
    "    df_LC_L.loc[len(df_LC_L)] = [skeleton_name.replace(\"_Skeleton.csv\", \"\"), tmp_LC * 0.02]\n",
    "\n",
    "df_LC_L.to_csv(os.path.join(RESULTS, \"Largest Components_Total Length.csv\"), header=False, index=False)"
   ]
  },
  {
   "cell_type": "markdown",
   "id": "3baf152d",
   "metadata": {},
   "source": [
    "# Normalized Network Length\n",
    "The Normalized Network Length is calculated by deviding the total number of junction-, end-, or slab-pixels by the colon area. This information is calculated by Fiji's analyse skeleton function, called in the macro \"skeletonize_analyse_and_save_Results.ijm\" and saved as file ending with \"_results.csv\". The colon area is saved as number of pixels in a file ending with \"\\_vesselArea.csv\" when calling any segmentation macro.\n",
    "\n",
    "    Normalized Network Length (NNL) has the unit (µm^-1)"
   ]
  },
  {
   "cell_type": "code",
   "execution_count": 32,
   "id": "96cced8a",
   "metadata": {},
   "outputs": [],
   "source": [
    "df_NNL =  pd.DataFrame(columns=['Name', 'Value'])\n",
    "\n",
    "for skeleton_name in sorted([file for file in os.listdir(ANALYSIS_DIR) if file.endswith(\"_Skeleton.csv\")]): # Iterate throu individuals\n",
    "    df_skeleton = pd.read_csv(os.path.join(ANALYSIS_DIR, skeleton_name))\n",
    "    df_area = pd.read_csv(os.path.join(ANALYSIS_DIR, skeleton_name.replace(\"_Skeleton.csv\", \"_SegmentedArea.csv\")))\n",
    "    AREA_COLON_pixel = df_area.iloc[0][\"Area\"]\n",
    "    \n",
    "    number_pixels = 0\n",
    "    for index, row in df_skeleton.iterrows():\n",
    "        number_pixels += row['# End-point voxels'] + row['# Junction voxels'] + row['# Slab voxels']\n",
    "    \n",
    "    df_NNL.loc[len(df_NNL)] = [skeleton_name.replace(\"_Skeleton.csv\", \"\"), number_pixels/(AREA_COLON_pixel*20)]\n",
    "\n",
    "df_NNL.to_csv(os.path.join(RESULTS, \"Normalized Network Length.csv\"), header=False, index=False)"
   ]
  },
  {
   "cell_type": "markdown",
   "id": "ad4fb1c4",
   "metadata": {},
   "source": [
    "# Normalized Vessel Area\n",
    "the normalized vessel area is calculated by the percentage of non-zero pixels in the colon area. This information is saved as % in a file ending with \"\\_vesselArea.csv\" when calling any segmentation macro.\n",
    "\n",
    "    Normalized Vessel Area (NVA) has the unit (%)"
   ]
  },
  {
   "cell_type": "code",
   "execution_count": 36,
   "id": "c90e7a09",
   "metadata": {},
   "outputs": [],
   "source": [
    "df_NVA =  pd.DataFrame(columns=['Name', 'Value'])\n",
    "\n",
    "for skeleton_name in sorted([file for file in os.listdir(ANALYSIS_DIR) if file.endswith(\"_Skeleton.csv\")]):\n",
    "    # Open nessesary files\n",
    "    df_area = pd.read_csv(os.path.join(ANALYSIS_DIR, skeleton_name.replace(\"_Skeleton.csv\", \"_SegmentedArea.csv\")))\n",
    "    \n",
    "    df_NVA.loc[len(df_NVA)] = [skeleton_name.replace(\"_Skeleton.csv\", \"\"), df_area.iloc[0][\"%Area\"]]\n",
    "\n",
    "df_NVA.to_csv(os.path.join(RESULTS, \"Normalized Vessel Area.csv\"), header=False, index=False)"
   ]
  },
  {
   "cell_type": "markdown",
   "id": "e44ed179",
   "metadata": {},
   "source": [
    "# Average Vessel Diameter\n",
    "The average vessel diameter is calculated by deviding the total vessel area by the total vessel length.\n",
    "\n",
    "    Average Vessel Diameter (AVD) has the unit (µm)"
   ]
  },
  {
   "cell_type": "code",
   "execution_count": 37,
   "id": "f3e24e62",
   "metadata": {},
   "outputs": [],
   "source": [
    "df_AVD =  pd.DataFrame(columns=['Name', 'Value'])\n",
    "\n",
    "for skeleton_name in sorted([file for file in os.listdir(ANALYSIS_DIR) if file.endswith(\"_Skeleton.csv\")]): # Iterate throu individuals\n",
    "    df_skeleton = pd.read_csv(os.path.join(ANALYSIS_DIR, skeleton_name))\n",
    "    df_area = pd.read_csv(os.path.join(ANALYSIS_DIR, skeleton_name.replace(\"_Skeleton.csv\", \"_SegmentedArea.csv\")))\n",
    "    AREA_VESSEL_pixels = (df_area.iloc[0][\"Area\"] / 100) * df_area.iloc[0][\"%Area\"]\n",
    "    \n",
    "    number_pixels = 0\n",
    "    for index, row in df_skeleton.iterrows():\n",
    "        number_pixels += row['# End-point voxels'] + row['# Junction voxels'] + row['# Slab voxels']\n",
    "    \n",
    "    df_AVD.loc[len(df_AVD)] = [skeleton_name.replace(\"_Skeleton.csv\", \"\"), (AREA_VESSEL_pixels*20)/number_pixels]\n",
    "\n",
    "df_AVD.to_csv(os.path.join(RESULTS, \"Average Vessel Diameter.csv\"), header=False, index=False)"
   ]
  },
  {
   "cell_type": "markdown",
   "id": "d68b8041",
   "metadata": {},
   "source": [
    "# Normalized Blood Volume\n",
    "The normalized Blood Volume is calculated based on the geographic distance map relative to the colon area imaged.\n",
    "\n",
    "    Normalized Blood Volume (Distance Map) (NBV_DM) has the unit (µm)"
   ]
  },
  {
   "cell_type": "code",
   "execution_count": 38,
   "id": "a5209ef9",
   "metadata": {},
   "outputs": [],
   "source": [
    "df_NBV_DM =  pd.DataFrame(columns=['Name', 'Value'])\n",
    "\n",
    "\n",
    "for skeleton_name in sorted([file for file in os.listdir(ANALYSIS_DIR) if file.endswith(\"_Skeleton.csv\")]): # Iterate throu individuals\n",
    "    # Open nessesary files\n",
    "    df_area = pd.read_csv(os.path.join(ANALYSIS_DIR, skeleton_name.replace(\"_Skeleton.csv\", \"_SegmentedArea.csv\")))\n",
    "    AREA_COLON_pixel = df_area.iloc[0][\"Area\"] # Returns number of pixels\n",
    "    AVD_DM = pd.read_csv(os.path.join(ANALYSIS_DIR, skeleton_name.replace(\"_Skeleton.csv\", \"_DistanceMap.csv\")))\n",
    "    # Drop first and zero lines\n",
    "    AVD_DM = AVD_DM.drop(0)\n",
    "    AVD_DM = AVD_DM[AVD_DM['Count'] != 0]\n",
    "    AVD_DM_mm = ((AVD_DM['Distance']*20)**2 * 3.1416 *AVD_DM['Count']*20).sum() / (AREA_COLON_pixel*20*20)\n",
    "    \n",
    "    df_NBV_DM.loc[len(df_NBV_DM)] = [skeleton_name.replace(\"_Skeleton.csv\", \"\"), AVD_DM_mm]\n",
    "\n",
    "\n",
    "df_NBV_DM.to_csv(os.path.join(RESULTS, \"Normalized Blood Volume.csv\"), header=False, index=False)"
   ]
  },
  {
   "cell_type": "markdown",
   "id": "a6c0d2f8",
   "metadata": {},
   "source": [
    "# Fractal Dimension\n",
    "The fractal dimension is calculated by the box-counting method (using Fiji)\n",
    "\n",
    "    Fractal Dimension (FD) has no unit"
   ]
  },
  {
   "cell_type": "code",
   "execution_count": 39,
   "id": "a7999f4a",
   "metadata": {},
   "outputs": [],
   "source": [
    "df_FD =  pd.DataFrame(columns=['Name', 'Value'])\n",
    "\n",
    "for skeleton_name in sorted([file for file in os.listdir(ANALYSIS_DIR) if file.endswith(\"_Skeleton.csv\")]):\n",
    "    df_fd = pd.read_csv(os.path.join(ANALYSIS_DIR, skeleton_name.replace(\"_Skeleton.csv\", \"_BoxCount.csv\")))\n",
    "    df_FD.loc[len(df_FD)] = [skeleton_name.replace(\"_Skeleton.csv\", \"\"), df_fd[\"D\"].mean()]\n",
    "\n",
    "df_FD.to_csv(os.path.join(RESULTS, \"Fractal Dimension.csv\"), header=False, index=False)"
   ]
  }
 ],
 "metadata": {
  "kernelspec": {
   "display_name": "Python 3 (ipykernel)",
   "language": "python",
   "name": "python3"
  },
  "language_info": {
   "codemirror_mode": {
    "name": "ipython",
    "version": 3
   },
   "file_extension": ".py",
   "mimetype": "text/x-python",
   "name": "python",
   "nbconvert_exporter": "python",
   "pygments_lexer": "ipython3",
   "version": "3.9.12"
  }
 },
 "nbformat": 4,
 "nbformat_minor": 5
}
